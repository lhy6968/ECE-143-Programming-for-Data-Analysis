{
 "cells": [
  {
   "cell_type": "code",
   "execution_count": 28,
   "id": "a2900d8c",
   "metadata": {},
   "outputs": [],
   "source": [
    "import csv\n",
    "from numpy import *\n",
    "import matplotlib.pyplot as plt"
   ]
  },
  {
   "cell_type": "code",
   "execution_count": 7,
   "id": "ac05cdfe",
   "metadata": {},
   "outputs": [],
   "source": [
    "f = open('RateMyProfessor_Sample data.csv','r')\n",
    "csvreader = csv.reader(f)\n",
    "final_list = list(csvreader)"
   ]
  },
  {
   "cell_type": "code",
   "execution_count": 8,
   "id": "60ea4f7e",
   "metadata": {},
   "outputs": [
    {
     "data": {
      "text/plain": [
       "['professor_name',\n",
       " 'school_name',\n",
       " 'department_name',\n",
       " 'local_name',\n",
       " 'state_name',\n",
       " 'year_since_first_review',\n",
       " 'star_rating',\n",
       " 'take_again',\n",
       " 'diff_index',\n",
       " 'tag_professor',\n",
       " 'num_student',\n",
       " 'post_date',\n",
       " 'name_onlines',\n",
       " 'name_not_onlines',\n",
       " 'student_star',\n",
       " 'student_difficult',\n",
       " 'attence',\n",
       " 'for_credits',\n",
       " 'would_take_agains',\n",
       " 'grades',\n",
       " 'help_useful',\n",
       " 'help_not_useful',\n",
       " 'comments',\n",
       " 'word_comment',\n",
       " 'gender',\n",
       " 'race',\n",
       " 'asian',\n",
       " 'hispanic',\n",
       " 'nh_black',\n",
       " 'nh_white',\n",
       " 'gives_good_feedback',\n",
       " 'caring',\n",
       " 'respected',\n",
       " 'participation_matters',\n",
       " 'clear_grading_criteria',\n",
       " 'skip_class',\n",
       " 'amazing_lectures',\n",
       " 'inspirational',\n",
       " 'tough_grader',\n",
       " 'hilarious',\n",
       " 'get_ready_to_read',\n",
       " 'lots_of_homework',\n",
       " 'accessible_outside_class',\n",
       " 'lecture_heavy',\n",
       " 'extra_credit',\n",
       " 'graded_by_few_things',\n",
       " 'group_projects',\n",
       " 'test_heavy',\n",
       " 'so_many_papers',\n",
       " 'beware_of_pop_quizzes',\n",
       " 'IsCourseOnline']"
      ]
     },
     "execution_count": 8,
     "metadata": {},
     "output_type": "execute_result"
    }
   ],
   "source": [
    "final_list[0]"
   ]
  },
  {
   "cell_type": "code",
   "execution_count": 22,
   "id": "4b7bf2ca",
   "metadata": {},
   "outputs": [],
   "source": [
    "res_dict = {}\n",
    "for i in range(len(final_list)):\n",
    "    if i == 0:\n",
    "        continue\n",
    "    if final_list[i][2] not in res_dict:\n",
    "        res_dict[final_list[i][2]] = [float(final_list[i][6])]\n",
    "    else:\n",
    "        res_dict[final_list[i][2]].append(float(final_list[i][6]))"
   ]
  },
  {
   "cell_type": "code",
   "execution_count": 23,
   "id": "82dc9440",
   "metadata": {},
   "outputs": [],
   "source": [
    "new_res_dict = {}\n",
    "for i in res_dict:\n",
    "    if len(res_dict[i]) >= 100:\n",
    "        new_res_dict[i] = mean(res_dict[i])"
   ]
  },
  {
   "cell_type": "code",
   "execution_count": 25,
   "id": "77322241",
   "metadata": {},
   "outputs": [
    {
     "data": {
      "text/plain": [
       "[3.0741071428571436,\n",
       " 3.137209302325582,\n",
       " 3.2900611620795104,\n",
       " 3.3047619047619063,\n",
       " 3.3627249357326474,\n",
       " 3.4122093023255813,\n",
       " 3.4199999999999986,\n",
       " 3.4357876712328763,\n",
       " 3.456038374717833,\n",
       " 3.4749999999999996,\n",
       " 3.5256410256410264,\n",
       " 3.5511363636363638,\n",
       " 3.5617449664429524,\n",
       " 3.5676409185803757,\n",
       " 3.5973753280839893,\n",
       " 3.6110687022900763,\n",
       " 3.6197247706422013,\n",
       " 3.629807692307691,\n",
       " 3.634313725490196,\n",
       " 3.644821731748727,\n",
       " 3.6475881261595546,\n",
       " 3.6509004739336492,\n",
       " 3.655098389982111,\n",
       " 3.6969656992084428,\n",
       " 3.703964098728497,\n",
       " 3.7758620689655173,\n",
       " 3.8158490566037737,\n",
       " 3.832530120481928,\n",
       " 3.84688221709007,\n",
       " 3.8529230769230765,\n",
       " 3.858394160583941,\n",
       " 3.8987421383647796,\n",
       " 3.9345971563981035,\n",
       " 3.9541353383458655,\n",
       " 4.068484848484848,\n",
       " 4.129126213592233,\n",
       " 4.148214285714286,\n",
       " 4.150455927051673,\n",
       " 4.1848314606741575]"
      ]
     },
     "execution_count": 25,
     "metadata": {},
     "output_type": "execute_result"
    }
   ],
   "source": [
    "res_list = []\n",
    "for i in new_res_dict:\n",
    "    res_list.append(new_res_dict[i])\n",
    "res_list.sort()\n",
    "res_list"
   ]
  },
  {
   "cell_type": "code",
   "execution_count": 31,
   "id": "5289f820",
   "metadata": {},
   "outputs": [
    {
     "name": "stdout",
     "output_type": "stream",
     "text": [
      "{'Nursing': 3.0741071428571436, 'Physics': 3.137209302325582, 'Computer Science': 3.2900611620795104, 'Management': 3.3047619047619063, 'Economics': 3.3627249357326474}\n",
      "{'Physical Ed': 4.1848314606741575, 'Music': 4.150455927051673, 'Film': 4.148214285714286, 'Literature': 4.129126213592233, 'Theology': 4.068484848484848}\n"
     ]
    }
   ],
   "source": [
    "best_department = {}\n",
    "worst_department = {}\n",
    "for i in range(5):\n",
    "    temp = [k for k,v in new_res_dict.items() if v == res_list[i]]\n",
    "    worst_department[temp[0][:-11]] = res_list[i]\n",
    "    \n",
    "for i in range(1,6):\n",
    "    temp = [k for k,v in new_res_dict.items() if v == res_list[-i]]\n",
    "    best_department[temp[0][:-11]] = res_list[-i]\n",
    "print(worst_department)\n",
    "print(best_department)"
   ]
  },
  {
   "cell_type": "code",
   "execution_count": 36,
   "id": "3e4394fe",
   "metadata": {},
   "outputs": [
    {
     "data": {
      "text/plain": [
       "Text(0, 0.5, 'star rating')"
      ]
     },
     "execution_count": 36,
     "metadata": {},
     "output_type": "execute_result"
    },
    {
     "data": {
      "image/png": "[encoded data removed]",
      "text/plain": [
       "<Figure size 720x360 with 1 Axes>"
      ]
     },
     "metadata": {
      "needs_background": "light"
     },
     "output_type": "display_data"
    }
   ],
   "source": [
    "fig = plt.figure(figsize=(10,5))\n",
    "x1 = list(worst_department.keys())\n",
    "y1 = list(worst_department.values())\n",
    "x2 = list(best_department.keys())\n",
    "y2 = list(best_department.values())\n",
    "plt.bar(x1,y1)\n",
    "plt.xlabel(\"department\")\n",
    "plt.ylabel(\"star rating\")"
   ]
  },
  {
   "cell_type": "code",
   "execution_count": 38,
   "id": "55ef71fc",
   "metadata": {},
   "outputs": [
    {
     "data": {
      "text/plain": [
       "Text(0, 0.5, 'star rating')"
      ]
     },
     "execution_count": 38,
     "metadata": {},
     "output_type": "execute_result"
    },
    {
     "data": {
      "image/png": "[encoded data removed]",
      "text/plain": [
       "<Figure size 720x360 with 1 Axes>"
      ]
     },
     "metadata": {
      "needs_background": "light"
     },
     "output_type": "display_data"
    }
   ],
   "source": [
    "fig = plt.figure(figsize=(10,5))\n",
    "plt.bar(x2,y2)\n",
    "plt.xlabel('department')\n",
    "plt.ylabel(\"star rating\")"
   ]
  },
  {
   "cell_type": "code",
   "execution_count": null,
   "id": "95bc35e5",
   "metadata": {},
   "outputs": [],
   "source": []
  }
 ],
 "metadata": {
  "kernelspec": {
   "display_name": "Python 3 (ipykernel)",
   "language": "python",
   "name": "python3"
  },
  "language_info": {
   "codemirror_mode": {
    "name": "ipython",
    "version": 3
   },
   "file_extension": ".py",
   "mimetype": "text/x-python",
   "name": "python",
   "nbconvert_exporter": "python",
   "pygments_lexer": "ipython3",
   "version": "3.9.12"
  }
 },
 "nbformat": 4,
 "nbformat_minor": 5
}
